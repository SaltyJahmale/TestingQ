{
  "cells": [
    {
      "cell_type": "code",
      "execution_count": 23,
      "metadata": {
        "pycharm": {}
      },
      "outputs": [],
      "source": "from qiskit.tools.visualization import plot_histogram\nfrom qiskit import QuantumCircuit, ClassicalRegister, QuantumRegister\nfrom qiskit import execute, IBMQ, BasicAer\nimport math\nimport Qconfig\nfrom qiskit.tools.monitor import job_monitor, backend_monitor, backend_overview\n"
    },
    {
      "cell_type": "code",
      "execution_count": 24,
      "metadata": {
        "pycharm": {}
      },
      "outputs": [
        {
          "name": "stderr",
          "output_type": "stream",
          "text": [
            "C:\\ProgramData\\Anaconda3\\lib\\site-packages\\qiskit\\providers\\ibmq\\ibmqprovider.py:251: UserWarning: Credentials are already in use.\n",
            "  warnings.warn(\u0027Credentials are already in use.\u0027)\n"
          ]
        },
        {
          "name": "stdout",
          "output_type": "stream",
          "text": [
            "ibmq_16_melbourne\n"
          ]
        },
        {
          "data": {
            "text/plain": [
              "\u003cqiskit.circuit.measure.Measure at 0x201456af978\u003e"
            ]
          },
          "execution_count": 24,
          "metadata": {},
          "output_type": "execute_result"
        }
      ],
      "source": "q \u003d QuantumRegister(7)\nc \u003d ClassicalRegister(3)\n\nIBMQ.enable_account(Qconfig.APItoken, url\u003dQconfig.config[\u0027url\u0027])\nbackend \u003d IBMQ.get_backend(\u0027ibmq_16_melbourne\u0027)\n\nprint(backend)\n\n# quantum circuit to make a Bell state\nshor \u003d QuantumCircuit(q, c)\n\n##########\n###init###\n##########\nshor.h(q[0])\nshor.h(q[1])\nshor.h(q[2])\n\n#######################\n###Encoding 7 mod 15###\n#######################\nshor.x(q[6])\nshor.cx(q[2], q[4])\nshor.cx(q[2], q[5])\nshor.cx(q[3], q[5])\nshor.ccx(q[1], q[5], q[3])\nshor.cx(q[3], q[5])\nshor.cx(q[6], q[4])\nshor.ccx(q[1], q[4], q[6])\nshor.cx(q[6], q[4])\nshor.h(q[0])\n\n#############################\n###Modulair Exponentiation###\n#############################\nshor.cu1(math.pi / 2, q[0], q[1])\nshor.h(q[1])\nshor.cu1(math.pi / 4, q[0], q[2])\nshor.cu1(math.pi / 2, q[1], q[2])\nshor.h(q[2])\n\n#################\n###Measurement###\n#################\nshor.measure(q[0], c[0])\nshor.measure(q[1], c[1])\nshor.measure(q[2], c[2])"
    },
    {
      "cell_type": "code",
      "execution_count": 1,
      "metadata": {
        "pycharm": {
          "is_executing": false
        }
      },
      "outputs": [
        {
          "traceback": [
            "\u001b[1;31m---------------------------------------------------------------------------\u001b[0m",
            "\u001b[1;31mNameError\u001b[0m                                 Traceback (most recent call last)",
            "\u001b[1;32m\u003cipython-input-1-b6a4bd3cc376\u003e\u001b[0m in \u001b[0;36m\u003cmodule\u003e\u001b[1;34m\u001b[0m\n\u001b[1;32m----\u003e 1\u001b[1;33m \u001b[0mbackend\u001b[0m \u001b[1;33m\u003d\u001b[0m \u001b[0mBasicAer\u001b[0m\u001b[1;33m.\u001b[0m\u001b[0mget_backend\u001b[0m\u001b[1;33m(\u001b[0m\u001b[1;34m\u0027qasm_simulator\u0027\u001b[0m\u001b[1;33m)\u001b[0m \u001b[1;31m# the device to run on\u001b[0m\u001b[1;33m\u001b[0m\u001b[1;33m\u001b[0m\u001b[0m\n\u001b[0m\u001b[0;32m      2\u001b[0m \u001b[0mshor\u001b[0m\u001b[1;33m.\u001b[0m\u001b[0mdraw\u001b[0m\u001b[1;33m(\u001b[0m\u001b[0moutput\u001b[0m\u001b[1;33m\u003d\u001b[0m\u001b[1;34m\u0027mpl\u0027\u001b[0m\u001b[1;33m)\u001b[0m\u001b[1;33m\u001b[0m\u001b[1;33m\u001b[0m\u001b[0m\n\u001b[0;32m      3\u001b[0m \u001b[1;31m# job \u003d execute(shor, backend, shots\u003d10).result()\u001b[0m\u001b[1;33m\u001b[0m\u001b[1;33m\u001b[0m\u001b[1;33m\u001b[0m\u001b[0m\n\u001b[0;32m      4\u001b[0m \u001b[1;31m# data \u003d job.get_counts(shor)\u001b[0m\u001b[1;33m\u001b[0m\u001b[1;33m\u001b[0m\u001b[1;33m\u001b[0m\u001b[0m\n\u001b[0;32m      5\u001b[0m \u001b[1;31m# print(data)\u001b[0m\u001b[1;33m\u001b[0m\u001b[1;33m\u001b[0m\u001b[1;33m\u001b[0m\u001b[0m\n",
            "\u001b[1;31mNameError\u001b[0m: name \u0027BasicAer\u0027 is not defined"
          ],
          "ename": "NameError",
          "evalue": "name \u0027BasicAer\u0027 is not defined",
          "output_type": "error"
        }
      ],
      "source": [
        "backend \u003d BasicAer.get_backend(\u0027qasm_simulator\u0027) # the device to run on\n",
        "shor.draw(output\u003d\u0027mpl\u0027)\n",
        "# job \u003d execute(shor, backend, shots\u003d10).result()\n",
        "# data \u003d job.get_counts(shor)\n",
        "# print(data)\n",
        "# plot_histogram(data)\n",
        "# backend_monitor(backend)\n"
      ]
    }
  ],
  "metadata": {
    "kernelspec": {
      "display_name": "Python 3",
      "language": "python",
      "name": "python3"
    },
    "language_info": {
      "codemirror_mode": {
        "name": "ipython",
        "version": 3
      },
      "file_extension": ".py",
      "mimetype": "text/x-python",
      "name": "python",
      "nbconvert_exporter": "python",
      "pygments_lexer": "ipython3",
      "version": "3.6.5"
    }
  },
  "nbformat": 4,
  "nbformat_minor": 2
}