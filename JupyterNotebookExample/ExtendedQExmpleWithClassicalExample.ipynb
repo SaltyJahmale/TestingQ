{
  "cells": [
    {
      "cell_type": "markdown",
      "metadata": {
        "pycharm": {}
      },
      "source": [
        "# Classical Steps Shor\u0027s Algorithm"
      ]
    },
    {
      "cell_type": "code",
      "execution_count": 2,
      "metadata": {
        "pycharm": {}
      },
      "outputs": [],
      "source": [
        "# Brute force period finding\n",
        "\n",
        "def find_period_classical(a, N):\n",
        "    n \u003d 1\n",
        "    t \u003d a\n",
        "    while t !\u003d 1:\n",
        "        t *\u003d a\n",
        "        t %\u003d N\n",
        "        n +\u003d 1\n",
        "    return n"
      ]
    },
    {
      "cell_type": "markdown",
      "metadata": {
        "pycharm": {}
      },
      "source": [
        "For simplicity, assume that N has only two distinct prime factors: N \u003d p*q\n",
        "\n",
        "1. Pick a random integer $a$ between 1 and N and compute the greatest common divisor gcd(a,N) using Euclid\u0027s algorithm.\n",
        "\n",
        "2. If a and N have some common prime factors, gcd(a,N) will equal p or q. Otherwise gcd(a,N) \u003d 1, meaning x and N are coprime\n",
        "\n",
        "3. Let r be the period of a mod N computed by the period finding machine. Repeat the above steps with different random choices  a until r is even\n",
        "\n",
        "4. Now p and q can be found by computing gcd(a^{r/2} -1, N) \u0026\u0026 gcd(a^{r/2} +1, N) "
      ]
    },
    {
      "cell_type": "code",
      "execution_count": 3,
      "metadata": {
        "scrolled": true,
        "pycharm": {}
      },
      "outputs": [
        {
          "name": "stdout",
          "output_type": "stream",
          "text": [
            "2\n"
          ]
        }
      ],
      "source": [
        "r \u003d find_period_classical(4, 15)\n",
        "print(r)"
      ]
    },
    {
      "cell_type": "code",
      "execution_count": 4,
      "metadata": {
        "pycharm": {}
      },
      "outputs": [
        {
          "name": "stdout",
          "output_type": "stream",
          "text": [
            "3.0\n",
            "5.0\n"
          ]
        }
      ],
      "source": [
        "a \u003d 4\n",
        "\n",
        "p \u003d a**(r/2)+1 \n",
        "q \u003d a**(r/2)-1\n",
        "\n",
        "\n",
        "print(q)\n",
        "print(p)"
      ]
    },
    {
      "cell_type": "markdown",
      "metadata": {
        "pycharm": {}
      },
      "source": [
        "# Now implementation of Shor\u0027s Algorithm classical:"
      ]
    },
    {
      "cell_type": "code",
      "execution_count": 5,
      "metadata": {
        "pycharm": {}
      },
      "outputs": [],
      "source": "import math,random, itertools \n\ndef shors_algorithm_classical(N):\n    x \u003d random.randint(0,N)\n    if(math.gcd(x,N) !\u003d 1): # step one, pick a number bigger 1 smaller N\n        return x,0,math.gcd(x,N),N/math.gcd(x,N)\n    \n    r \u003d find_period_classical(x,N) # step two find the period (Bottleneck)\n    while(r % 2 !\u003d 0):\n        r \u003d find_period_classical(x,N)\n    \n    p \u003d math.gcd(x**int(r/2)+1,N) # step three compute the factor \n    q \u003d math.gcd(x**int(r/2)-1,N) # step three compute the factor\n    return x,r,p,q\n\n"
    },
    {
      "cell_type": "code",
      "execution_count": 9,
      "metadata": {
        "pycharm": {}
      },
      "outputs": [
        {
          "name": "stdout",
          "output_type": "stream",
          "text": [
            "period r \u003d 4, prime factors \u003d 5 and 3\n"
          ]
        }
      ],
      "source": "N \u003d 15\nx,r,p,q \u003d shors_algorithm_classical(N)\nprint(\"period r \u003d \",r,\", prime factors \u003d \",p,\" and \",q,sep\u003d\"\")"
    },
    {
      "cell_type": "markdown",
      "metadata": {
        "pycharm": {}
      },
      "source": [
        "# Implementation based on the following https://github.com/amitabhyadav/Shor-Algorithm-on-IBM-Quantum-Experience"
      ]
    },
    {
      "cell_type": "code",
      "execution_count": 3,
      "metadata": {
        "pycharm": {}
      },
      "outputs": [],
      "source": [
        "# Imports \n",
        "from qiskit import Aer\n",
        "from qiskit import QuantumCircuit, ClassicalRegister, QuantumRegister\n",
        "from qiskit import execute\n",
        "from qiskit.tools.visualization import plot_histogram, circuit_drawer"
      ]
    },
    {
      "cell_type": "code",
      "execution_count": 4,
      "metadata": {
        "pycharm": {}
      },
      "outputs": [],
      "source": [
        "# qc \u003d quantum circuit, qr \u003d quantum register, cr \u003d classical register, a \u003d 2, 7, 8, 11 or 13\n",
        "def circuit_amod15(qc,qr,cr,a):\n",
        "    if a \u003d\u003d 2:\n",
        "        qc.cswap(qr[4],qr[3],qr[2])\n",
        "        qc.cswap(qr[4],qr[2],qr[1])\n",
        "        qc.cswap(qr[4],qr[1],qr[0])\n",
        "    elif a \u003d\u003d 7:\n",
        "        qc.cswap(qr[4],qr[1],qr[0])\n",
        "        qc.cswap(qr[4],qr[2],qr[1])\n",
        "        qc.cswap(qr[4],qr[3],qr[2])\n",
        "        qc.cx(qr[4],qr[3])\n",
        "        qc.cx(qr[4],qr[2])\n",
        "        qc.cx(qr[4],qr[1])\n",
        "        qc.cx(qr[4],qr[0])\n",
        "    elif a \u003d\u003d 8:\n",
        "        qc.cswap(qr[4],qr[1],qr[0])\n",
        "        qc.cswap(qr[4],qr[2],qr[1])\n",
        "        qc.cswap(qr[4],qr[3],qr[2])\n",
        "    elif a \u003d\u003d 11: # this is included for completeness\n",
        "        qc.cswap(qr[4],qr[2],qr[0])\n",
        "        qc.cswap(qr[4],qr[3],qr[1])\n",
        "        qc.cx(qr[4],qr[3])\n",
        "        qc.cx(qr[4],qr[2])\n",
        "        qc.cx(qr[4],qr[1])\n",
        "        qc.cx(qr[4],qr[0])\n",
        "    elif a \u003d\u003d 13:\n",
        "        qc.cswap(qr[4],qr[3],qr[2])\n",
        "        qc.cswap(qr[4],qr[2],qr[1])\n",
        "        qc.cswap(qr[4],qr[1],qr[0])\n",
        "        qc.cx(qr[4],qr[3])\n",
        "        qc.cx(qr[4],qr[2])\n",
        "        qc.cx(qr[4],qr[1])\n",
        "        qc.cx(qr[4],qr[0])"
      ]
    },
    {
      "cell_type": "code",
      "execution_count": 5,
      "metadata": {
        "pycharm": {}
      },
      "outputs": [],
      "source": [
        "# qc \u003d quantum circuit, qr \u003d quantum register, cr \u003d classical register, a \u003d 2, 7, 8, 11 or 13\n",
        "def circuit_aperiod15(qc,qr,cr,a):\n",
        "    if a \u003d\u003d 11:\n",
        "        circuit_11period15(qc,qr,cr)\n",
        "        return\n",
        "    \n",
        "    # Initialize q[0] to |1\u003e \n",
        "    qc.x(qr[0])\n",
        "\n",
        "    # Apply a**4 mod 15\n",
        "    qc.h(qr[4])\n",
        "    #   controlled identity on the remaining 4 qubits, which is equivalent to doing nothing\n",
        "    qc.h(qr[4])\n",
        "    #   measure\n",
        "    qc.measure(qr[4],cr[0])\n",
        "    #   reinitialise q[4] to |0\u003e\n",
        "    qc.reset(qr[4])\n",
        "\n",
        "    # Apply a**2 mod 15\n",
        "    qc.h(qr[4])\n",
        "    #   controlled unitary\n",
        "    qc.cx(qr[4],qr[2])\n",
        "    qc.cx(qr[4],qr[0])\n",
        "    #   feed forward\n",
        "    if cr[0] \u003d\u003d 1:\n",
        "        qc.u1(math.pi/2.,qr[4])\n",
        "    qc.h(qr[4])\n",
        "    #   measure\n",
        "    qc.measure(qr[4],cr[1])\n",
        "    #   reinitialise q[4] to |0\u003e\n",
        "    qc.reset(qr[4])\n",
        "\n",
        "    # Apply a mod 15\n",
        "    qc.h(qr[4])\n",
        "    #   controlled unitary.\n",
        "    circuit_amod15(qc,qr,cr,a)\n",
        "    #   feed forward\n",
        "    if cr[1] \u003d\u003d 1:\n",
        "        qc.u1(math.pi/2.,qr[4])\n",
        "    if cr[0] \u003d\u003d 1:\n",
        "        qc.u1(math.pi/4.,qr[4])\n",
        "    qc.h(qr[4])\n",
        "    #   measure\n",
        "    qc.measure(qr[4],cr[2])"
      ]
    },
    {
      "cell_type": "code",
      "execution_count": 6,
      "metadata": {
        "pycharm": {}
      },
      "outputs": [],
      "source": [
        "def circuit_11period15(qc,qr,cr):\n",
        "    # Initialize q[0] to |1\u003e \n",
        "    qc.x(qr[0])\n",
        "\n",
        "    # Apply a**4 mod 15\n",
        "    qc.h(qr[4])\n",
        "    #   controlled identity on the remaining 4 qubits, which is equivalent to doing nothing\n",
        "    qc.h(qr[4])\n",
        "    #   measure\n",
        "    qc.measure(qr[4],cr[0])\n",
        "    #   reinitialise q[4] to |0\u003e\n",
        "    qc.reset(qr[4])\n",
        "\n",
        "    # Apply a**2 mod 15\n",
        "    qc.h(qr[4])\n",
        "    #   controlled identity on the remaining 4 qubits, which is equivalent to doing nothing\n",
        "    #   feed forward\n",
        "    if cr[0] \u003d\u003d 1:\n",
        "        qc.u1(math.pi/2.,qr[4])\n",
        "    qc.h(qr[4])\n",
        "    #   measure\n",
        "    qc.measure(qr[4],cr[1])\n",
        "    #   reinitialise q[4] to |0\u003e\n",
        "    qc.reset(qr[4])\n",
        "\n",
        "    # Apply 11 mod 15\n",
        "    qc.h(qr[4])\n",
        "    #   controlled unitary.\n",
        "    qc.cx(qr[4],qr[3])\n",
        "    qc.cx(qr[4],qr[1])\n",
        "    #   feed forward\n",
        "    if cr[1] \u003d\u003d 1:\n",
        "        qc.u1(math.pi/2.,qr[4])\n",
        "    if cr[0] \u003d\u003d 1:\n",
        "        qc.u1(math.pi/4.,qr[4])\n",
        "    qc.h(qr[4])\n",
        "    #   measure\n",
        "    qc.measure(qr[4],cr[2])"
      ]
    },
    {
      "cell_type": "markdown",
      "metadata": {
        "pycharm": {}
      },
      "source": [
        "a \u003d 7 for this example "
      ]
    },
    {
      "cell_type": "code",
      "execution_count": 12,
      "metadata": {
        "pycharm": {}
      },
      "outputs": [
        {
          "data": {
            "image/png": "[encoded data removed]",
            "text/plain": [
              "\u003cFigure size 504x360 with 1 Axes\u003e"
            ]
          },
          "execution_count": 12,
          "metadata": {},
          "output_type": "execute_result"
        }
      ],
      "source": [
        "q \u003d QuantumRegister(5, \u0027q\u0027)\n",
        "c \u003d ClassicalRegister(5, \u0027c\u0027)\n",
        "a \u003d 13\n",
        "\n",
        "shor \u003d QuantumCircuit(q, c)\n",
        "wqe \u003d circuit_aperiod15(shor,q,c,a) # circuit for a \u003d 7, and plot the results:\n",
        "\n",
        "backend \u003d Aer.get_backend(\u0027qasm_simulator\u0027)\n",
        "sim_job \u003d execute([shor], backend)\n",
        "sim_result \u003d sim_job.result()\n",
        "sim_data \u003d sim_result.get_counts(shor) \n",
        "plot_histogram(sim_data)\n"
      ]
    },
    {
      "cell_type": "markdown",
      "metadata": {
        "pycharm": {}
      },
      "source": []
    }
  ],
  "metadata": {
    "kernelspec": {
      "display_name": "Python 3",
      "language": "python",
      "name": "python3"
    },
    "language_info": {
      "codemirror_mode": {
        "name": "ipython",
        "version": 3
      },
      "file_extension": ".py",
      "mimetype": "text/x-python",
      "name": "python",
      "nbconvert_exporter": "python",
      "pygments_lexer": "ipython3",
      "version": "3.6.5"
    }
  },
  "nbformat": 4,
  "nbformat_minor": 2
}